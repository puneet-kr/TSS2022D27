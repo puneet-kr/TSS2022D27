{
  "nbformat": 4,
  "nbformat_minor": 0,
  "metadata": {
    "colab": {
      "name": "Explainability.ipynb",
      "provenance": [],
      "collapsed_sections": []
    },
    "kernelspec": {
      "name": "python3",
      "display_name": "Python 3"
    },
    "language_info": {
      "name": "python"
    },
    "accelerator": "GPU"
  },
  "cells": [
    {
      "cell_type": "code",
      "source": [
        "#from google.colab import drive\n",
        "#drive.mount('/content/drive')\n",
        "\n",
        "#! git clone https://github.com/puneet-kr/TSS2022D27.git"
      ],
      "metadata": {
        "id": "qzvTyfJPBUa5"
      },
      "execution_count": 37,
      "outputs": []
    },
    {
      "cell_type": "code",
      "source": [
        "import tensorflow as tf\n",
        "import numpy as np\n",
        "import datetime\n",
        "from glob import glob\n",
        "import matplotlib.pyplot as plt\n",
        "from keras.layers import Input, Lambda, Dense, Flatten\n",
        "from keras.models import Model\n",
        "from keras.applications.vgg16 import preprocess_input\n",
        "from keras.preprocessing import image\n",
        "from keras.preprocessing.image import ImageDataGenerator\n",
        "from keras.models import Sequential\n",
        "from keras.models import load_model\n",
        "from keras.preprocessing.image import ImageDataGenerator"
      ],
      "metadata": {
        "id": "Y_x-kEGsFNCz"
      },
      "execution_count": 38,
      "outputs": []
    },
    {
      "cell_type": "code",
      "source": [
        "!ls"
      ],
      "metadata": {
        "colab": {
          "base_uri": "https://localhost:8080/"
        },
        "id": "QEGQyY8csAFx",
        "outputId": "d9b8a750-6e3a-4ec6-b816-27de9b96500a"
      },
      "execution_count": 39,
      "outputs": [
        {
          "output_type": "stream",
          "name": "stdout",
          "text": [
            "Data  sample_data\n"
          ]
        }
      ]
    },
    {
      "cell_type": "code",
      "source": [
        "#---------[Change#1: Optional]-----------\n",
        "#from keras.applications.resnet50 import ResNet50\n",
        "from keras.applications.vgg16 import VGG16\n",
        "\n",
        "# re-size all the images to this\n",
        "IMAGE_SIZE = [224, 224]\n",
        "\n",
        "train_path = '/Data/FI_IER/Train'\n",
        "valid_path = '/Data/FI_IER/Test'\n",
        "\n",
        "#---------[Change#2: Optional]-----------\n",
        "#m = ResNet50(input_shape=IMAGE_SIZE + [3], weights='imagenet', include_top=False)\n",
        "m = VGG16(input_shape=IMAGE_SIZE + [3], weights='imagenet', include_top=False)\n",
        "\n",
        "# don't train existing weights\n",
        "for layer in m.layers:\n",
        "  layer.trainable = False"
      ],
      "metadata": {
        "id": "rO1yCCNkFSpS"
      },
      "execution_count": 40,
      "outputs": []
    },
    {
      "cell_type": "code",
      "source": [
        "# useful for getting number of classes\n",
        "folders = glob('Data/FI_IER/*')\n",
        "\n",
        "# our layers - you can add more if you want\n",
        "x = Flatten()(m.output)\n",
        "\n",
        "# ------------------------------------------------------------------\n",
        "# [ToDo] In Round 2: add/reduce more layers and observe the clusters\n",
        "# ------------------------------------------------------------------\n",
        "# x = Dense(1000, activation='relu')(x)\n",
        "x = Dense(2048, activation='relu')(x)\n",
        "x = Dense(4096, activation='relu')(x)\n",
        "x = Dense(4096, activation='relu')(x)\n",
        "\n",
        "prediction = Dense(len(folders), activation='softmax')(x)\n",
        "\n",
        "# create a model object\n",
        "model = Model(inputs=m.input, outputs=prediction)\n",
        "\n",
        "# view the structure of the model\n",
        "model.summary()\n",
        "\n",
        "# tell the model what cost and optimization method to use\n",
        "model.compile(\n",
        "  loss='categorical_crossentropy',\n",
        "  optimizer='adam',\n",
        "  metrics=['accuracy']\n",
        ")"
      ],
      "metadata": {
        "colab": {
          "base_uri": "https://localhost:8080/"
        },
        "id": "BBhIK94WFW8e",
        "outputId": "6cd1db94-e43b-4648-d9ad-c71a16952520"
      },
      "execution_count": 41,
      "outputs": [
        {
          "output_type": "stream",
          "name": "stdout",
          "text": [
            "Model: \"model_4\"\n",
            "_________________________________________________________________\n",
            " Layer (type)                Output Shape              Param #   \n",
            "=================================================================\n",
            " input_2 (InputLayer)        [(None, 224, 224, 3)]     0         \n",
            "                                                                 \n",
            " block1_conv1 (Conv2D)       (None, 224, 224, 64)      1792      \n",
            "                                                                 \n",
            " block1_conv2 (Conv2D)       (None, 224, 224, 64)      36928     \n",
            "                                                                 \n",
            " block1_pool (MaxPooling2D)  (None, 112, 112, 64)      0         \n",
            "                                                                 \n",
            " block2_conv1 (Conv2D)       (None, 112, 112, 128)     73856     \n",
            "                                                                 \n",
            " block2_conv2 (Conv2D)       (None, 112, 112, 128)     147584    \n",
            "                                                                 \n",
            " block2_pool (MaxPooling2D)  (None, 56, 56, 128)       0         \n",
            "                                                                 \n",
            " block3_conv1 (Conv2D)       (None, 56, 56, 256)       295168    \n",
            "                                                                 \n",
            " block3_conv2 (Conv2D)       (None, 56, 56, 256)       590080    \n",
            "                                                                 \n",
            " block3_conv3 (Conv2D)       (None, 56, 56, 256)       590080    \n",
            "                                                                 \n",
            " block3_pool (MaxPooling2D)  (None, 28, 28, 256)       0         \n",
            "                                                                 \n",
            " block4_conv1 (Conv2D)       (None, 28, 28, 512)       1180160   \n",
            "                                                                 \n",
            " block4_conv2 (Conv2D)       (None, 28, 28, 512)       2359808   \n",
            "                                                                 \n",
            " block4_conv3 (Conv2D)       (None, 28, 28, 512)       2359808   \n",
            "                                                                 \n",
            " block4_pool (MaxPooling2D)  (None, 14, 14, 512)       0         \n",
            "                                                                 \n",
            " block5_conv1 (Conv2D)       (None, 14, 14, 512)       2359808   \n",
            "                                                                 \n",
            " block5_conv2 (Conv2D)       (None, 14, 14, 512)       2359808   \n",
            "                                                                 \n",
            " block5_conv3 (Conv2D)       (None, 14, 14, 512)       2359808   \n",
            "                                                                 \n",
            " block5_pool (MaxPooling2D)  (None, 7, 7, 512)         0         \n",
            "                                                                 \n",
            " flatten_3 (Flatten)         (None, 25088)             0         \n",
            "                                                                 \n",
            " dense_12 (Dense)            (None, 2048)              51382272  \n",
            "                                                                 \n",
            " dense_13 (Dense)            (None, 4096)              8392704   \n",
            "                                                                 \n",
            " dense_14 (Dense)            (None, 4096)              16781312  \n",
            "                                                                 \n",
            " dense_15 (Dense)            (None, 2)                 8194      \n",
            "                                                                 \n",
            "=================================================================\n",
            "Total params: 91,279,170\n",
            "Trainable params: 76,564,482\n",
            "Non-trainable params: 14,714,688\n",
            "_________________________________________________________________\n"
          ]
        }
      ]
    },
    {
      "cell_type": "code",
      "source": [
        "len(folders)"
      ],
      "metadata": {
        "colab": {
          "base_uri": "https://localhost:8080/"
        },
        "id": "PL_Bxx74IX0E",
        "outputId": "320f4fb2-9d5e-4af1-833b-6f52182555cf"
      },
      "execution_count": 42,
      "outputs": [
        {
          "output_type": "execute_result",
          "data": {
            "text/plain": [
              "2"
            ]
          },
          "metadata": {},
          "execution_count": 42
        }
      ]
    },
    {
      "cell_type": "code",
      "source": [
        "path = \"Data/FI_IER/\""
      ],
      "metadata": {
        "id": "sjLgAUoxIfxk"
      },
      "execution_count": 43,
      "outputs": []
    },
    {
      "cell_type": "code",
      "source": [
        "train_datagen = ImageDataGenerator(rescale = 1./255,\n",
        "                                   shear_range = 0.2,\n",
        "                                   zoom_range = 0.2,\n",
        "                                   horizontal_flip = True)\n",
        "\n",
        "test_datagen = ImageDataGenerator(rescale = 1./255)\n",
        "\n",
        "training_set = train_datagen.flow_from_directory(path,\n",
        "                                                 target_size = (224, 224),\n",
        "                                                 batch_size = 16,\n",
        "                                                 class_mode = 'categorical')\n",
        "\n",
        "test_set = test_datagen.flow_from_directory(path,\n",
        "                                            target_size = (224, 224),\n",
        "                                            batch_size = 16,\n",
        "                                            class_mode = 'categorical')\n"
      ],
      "metadata": {
        "colab": {
          "base_uri": "https://localhost:8080/"
        },
        "id": "DNuWparpI5oW",
        "outputId": "bed64c2b-b769-442a-e0f2-5648c6821509"
      },
      "execution_count": 44,
      "outputs": [
        {
          "output_type": "stream",
          "name": "stdout",
          "text": [
            "Found 9 images belonging to 3 classes.\n",
            "Found 9 images belonging to 3 classes.\n"
          ]
        }
      ]
    },
    {
      "cell_type": "code",
      "source": [
        "training_set[0][0].shape"
      ],
      "metadata": {
        "colab": {
          "base_uri": "https://localhost:8080/"
        },
        "id": "tnolUPnDJaLl",
        "outputId": "6a1f7c9b-bb47-495e-d117-e9884e8cccec"
      },
      "execution_count": 45,
      "outputs": [
        {
          "output_type": "execute_result",
          "data": {
            "text/plain": [
              "(9, 224, 224, 3)"
            ]
          },
          "metadata": {},
          "execution_count": 45
        }
      ]
    },
    {
      "cell_type": "code",
      "source": [
        "training_set[0][0][0]"
      ],
      "metadata": {
        "colab": {
          "base_uri": "https://localhost:8080/"
        },
        "id": "ox1DOd3pTkHg",
        "outputId": "af094b09-d38c-4b15-afc4-0be1d77762bb"
      },
      "execution_count": 46,
      "outputs": [
        {
          "output_type": "execute_result",
          "data": {
            "text/plain": [
              "array([[[0.21734565, 0.19607845, 0.20052828],\n",
              "        [0.21553838, 0.19607845, 0.19121346],\n",
              "        [0.22593953, 0.19683418, 0.18823531],\n",
              "        ...,\n",
              "        [0.25271434, 0.22692272, 0.23024146],\n",
              "        [0.25746998, 0.22352943, 0.22096142],\n",
              "        [0.26757532, 0.23318984, 0.2253467 ]],\n",
              "\n",
              "       [[0.21734565, 0.19607845, 0.20052828],\n",
              "        [0.21553838, 0.19607845, 0.19121346],\n",
              "        [0.22593953, 0.19683418, 0.18823531],\n",
              "        ...,\n",
              "        [0.25271434, 0.22692272, 0.23024146],\n",
              "        [0.25746998, 0.22352943, 0.22096142],\n",
              "        [0.26757532, 0.23318984, 0.2253467 ]],\n",
              "\n",
              "       [[0.21734565, 0.19607845, 0.20052828],\n",
              "        [0.21553838, 0.19607845, 0.19121346],\n",
              "        [0.22593953, 0.19683418, 0.18823531],\n",
              "        ...,\n",
              "        [0.25271434, 0.22692272, 0.23024146],\n",
              "        [0.25746998, 0.22352943, 0.22096142],\n",
              "        [0.26757532, 0.23318984, 0.2253467 ]],\n",
              "\n",
              "       ...,\n",
              "\n",
              "       [[0.00279047, 0.00279047, 0.        ],\n",
              "        [0.        , 0.        , 0.        ],\n",
              "        [0.00075573, 0.        , 0.        ],\n",
              "        ...,\n",
              "        [0.0022622 , 0.0022622 , 0.0022622 ],\n",
              "        [0.        , 0.        , 0.        ],\n",
              "        [0.        , 0.        , 0.        ]],\n",
              "\n",
              "       [[0.00279047, 0.00279047, 0.        ],\n",
              "        [0.        , 0.        , 0.        ],\n",
              "        [0.00075573, 0.        , 0.        ],\n",
              "        ...,\n",
              "        [0.0022622 , 0.0022622 , 0.0022622 ],\n",
              "        [0.        , 0.        , 0.        ],\n",
              "        [0.        , 0.        , 0.        ]],\n",
              "\n",
              "       [[0.00279047, 0.00279047, 0.        ],\n",
              "        [0.        , 0.        , 0.        ],\n",
              "        [0.00075573, 0.        , 0.        ],\n",
              "        ...,\n",
              "        [0.0022622 , 0.0022622 , 0.0022622 ],\n",
              "        [0.        , 0.        , 0.        ],\n",
              "        [0.        , 0.        , 0.        ]]], dtype=float32)"
            ]
          },
          "metadata": {},
          "execution_count": 46
        }
      ]
    },
    {
      "cell_type": "code",
      "source": [
        "plt.imshow(training_set[0][0][0])"
      ],
      "metadata": {
        "colab": {
          "base_uri": "https://localhost:8080/",
          "height": 286
        },
        "id": "P2i6P5ZZTf1N",
        "outputId": "125ad80d-95ea-487b-bd95-66a036e58da1"
      },
      "execution_count": 47,
      "outputs": [
        {
          "output_type": "execute_result",
          "data": {
            "text/plain": [
              "<matplotlib.image.AxesImage at 0x7fc4c0b70850>"
            ]
          },
          "metadata": {},
          "execution_count": 47
        },
        {
          "output_type": "display_data",
          "data": {
            "text/plain": [
              "<Figure size 432x288 with 1 Axes>"
            ],
            "image/png": "[encoded data removed]"
          },
          "metadata": {
            "needs_background": "light"
          }
        }
      ]
    },
    {
      "cell_type": "code",
      "source": [
        "STEP_SIZE_TRAIN=training_set.n//training_set.batch_size\n",
        "STEP_SIZE_VALID=test_set.n//test_set.batch_size\n",
        "\n",
        "#STEP_SIZE_TRAIN=1\n",
        "#STEP_SIZE_VALID=1"
      ],
      "metadata": {
        "id": "H4eEIyWTgTHW"
      },
      "execution_count": 51,
      "outputs": []
    },
    {
      "cell_type": "code",
      "execution_count": 53,
      "metadata": {
        "colab": {
          "base_uri": "https://localhost:8080/",
          "height": 433
        },
        "id": "OUIfuZ_OBM9C",
        "outputId": "0dbe411b-010a-48e9-abec-c8e600c43d1a"
      },
      "outputs": [
        {
          "output_type": "stream",
          "name": "stdout",
          "text": [
            "Epoch 1/20\n"
          ]
        },
        {
          "output_type": "error",
          "ename": "ValueError",
          "evalue": "ignored",
          "traceback": [
            "\u001b[0;31m---------------------------------------------------------------------------\u001b[0m",
            "\u001b[0;31mValueError\u001b[0m                                Traceback (most recent call last)",
            "\u001b[0;32m<ipython-input-53-1aae847606c7>\u001b[0m in \u001b[0;36m<module>\u001b[0;34m()\u001b[0m\n\u001b[1;32m      5\u001b[0m   \u001b[0mepochs\u001b[0m\u001b[0;34m=\u001b[0m\u001b[0;36m20\u001b[0m\u001b[0;34m,\u001b[0m\u001b[0;34m\u001b[0m\u001b[0;34m\u001b[0m\u001b[0m\n\u001b[1;32m      6\u001b[0m   \u001b[0msteps_per_epoch\u001b[0m\u001b[0;34m=\u001b[0m\u001b[0mSTEP_SIZE_TRAIN\u001b[0m\u001b[0;34m,\u001b[0m\u001b[0;34m\u001b[0m\u001b[0;34m\u001b[0m\u001b[0m\n\u001b[0;32m----> 7\u001b[0;31m   \u001b[0mvalidation_steps\u001b[0m\u001b[0;34m=\u001b[0m\u001b[0mSTEP_SIZE_TRAIN\u001b[0m\u001b[0;34m\u001b[0m\u001b[0;34m\u001b[0m\u001b[0m\n\u001b[0m\u001b[1;32m      8\u001b[0m )\n",
            "\u001b[0;32m/usr/local/lib/python3.7/dist-packages/keras/utils/traceback_utils.py\u001b[0m in \u001b[0;36merror_handler\u001b[0;34m(*args, **kwargs)\u001b[0m\n\u001b[1;32m     65\u001b[0m     \u001b[0;32mexcept\u001b[0m \u001b[0mException\u001b[0m \u001b[0;32mas\u001b[0m \u001b[0me\u001b[0m\u001b[0;34m:\u001b[0m  \u001b[0;31m# pylint: disable=broad-except\u001b[0m\u001b[0;34m\u001b[0m\u001b[0;34m\u001b[0m\u001b[0m\n\u001b[1;32m     66\u001b[0m       \u001b[0mfiltered_tb\u001b[0m \u001b[0;34m=\u001b[0m \u001b[0m_process_traceback_frames\u001b[0m\u001b[0;34m(\u001b[0m\u001b[0me\u001b[0m\u001b[0;34m.\u001b[0m\u001b[0m__traceback__\u001b[0m\u001b[0;34m)\u001b[0m\u001b[0;34m\u001b[0m\u001b[0;34m\u001b[0m\u001b[0m\n\u001b[0;32m---> 67\u001b[0;31m       \u001b[0;32mraise\u001b[0m \u001b[0me\u001b[0m\u001b[0;34m.\u001b[0m\u001b[0mwith_traceback\u001b[0m\u001b[0;34m(\u001b[0m\u001b[0mfiltered_tb\u001b[0m\u001b[0;34m)\u001b[0m \u001b[0;32mfrom\u001b[0m \u001b[0;32mNone\u001b[0m\u001b[0;34m\u001b[0m\u001b[0;34m\u001b[0m\u001b[0m\n\u001b[0m\u001b[1;32m     68\u001b[0m     \u001b[0;32mfinally\u001b[0m\u001b[0;34m:\u001b[0m\u001b[0;34m\u001b[0m\u001b[0;34m\u001b[0m\u001b[0m\n\u001b[1;32m     69\u001b[0m       \u001b[0;32mdel\u001b[0m \u001b[0mfiltered_tb\u001b[0m\u001b[0;34m\u001b[0m\u001b[0;34m\u001b[0m\u001b[0m\n",
            "\u001b[0;32m/usr/local/lib/python3.7/dist-packages/keras/engine/training.py\u001b[0m in \u001b[0;36mfit\u001b[0;34m(self, x, y, batch_size, epochs, verbose, callbacks, validation_split, validation_data, shuffle, class_weight, sample_weight, initial_epoch, steps_per_epoch, validation_steps, validation_batch_size, validation_freq, max_queue_size, workers, use_multiprocessing)\u001b[0m\n\u001b[1;32m   1393\u001b[0m         \u001b[0mlogs\u001b[0m \u001b[0;34m=\u001b[0m \u001b[0mtf_utils\u001b[0m\u001b[0;34m.\u001b[0m\u001b[0msync_to_numpy_or_python_type\u001b[0m\u001b[0;34m(\u001b[0m\u001b[0mlogs\u001b[0m\u001b[0;34m)\u001b[0m\u001b[0;34m\u001b[0m\u001b[0;34m\u001b[0m\u001b[0m\n\u001b[1;32m   1394\u001b[0m         \u001b[0;32mif\u001b[0m \u001b[0mlogs\u001b[0m \u001b[0;32mis\u001b[0m \u001b[0;32mNone\u001b[0m\u001b[0;34m:\u001b[0m\u001b[0;34m\u001b[0m\u001b[0;34m\u001b[0m\u001b[0m\n\u001b[0;32m-> 1395\u001b[0;31m           raise ValueError('Unexpected result of `train_function` '\n\u001b[0m\u001b[1;32m   1396\u001b[0m                            \u001b[0;34m'(Empty logs). Please use '\u001b[0m\u001b[0;34m\u001b[0m\u001b[0;34m\u001b[0m\u001b[0m\n\u001b[1;32m   1397\u001b[0m                            \u001b[0;34m'`Model.compile(..., run_eagerly=True)`, or '\u001b[0m\u001b[0;34m\u001b[0m\u001b[0;34m\u001b[0m\u001b[0m\n",
            "\u001b[0;31mValueError\u001b[0m: Unexpected result of `train_function` (Empty logs). Please use `Model.compile(..., run_eagerly=True)`, or `tf.config.run_functions_eagerly(True)` for more information of where went wrong, or file a issue/bug to `tf.keras`."
          ]
        }
      ],
      "source": [
        "# fit the model\n",
        "r = model.fit(\n",
        "  training_set,\n",
        "  validation_data=test_set,\n",
        "  epochs=20,\n",
        "  steps_per_epoch=STEP_SIZE_TRAIN,\n",
        "  validation_steps=STEP_SIZE_VALID\n",
        ")"
      ]
    },
    {
      "cell_type": "code",
      "source": [
        "y_train = training_set.labels"
      ],
      "metadata": {
        "id": "Fwf3lG6AkCQp"
      },
      "execution_count": null,
      "outputs": []
    },
    {
      "cell_type": "code",
      "source": [
        "def plot_3d_cluster(layer_num = -1):\n",
        "  import tensorflow as tf\n",
        "  import keras.backend as K\n",
        "  out_layer=model.layers[layer_num].output\n",
        "\n",
        "\n",
        "  intermediate_layer_model = Model(inputs=model.input,\n",
        "                                  outputs=out_layer)\n",
        "\n",
        "  o = intermediate_layer_model.predict(training_set) #1st argument of the .fit() function\n",
        "\n",
        "  pca=PCA(n_components=3)\n",
        "  pca.fit(o)\n",
        "  x_pca=pca.transform(o)\n",
        "  X=x_pca[:,0]\n",
        "  Y=x_pca[:,1]\n",
        "  Z=x_pca[:,1]\n",
        "\n",
        "  fig, (ax) = plt.subplots(1,1,figsize=(12,12))\n",
        "  ax = plt.axes(projection='3d')\n",
        "  plt.rcParams['axes.facecolor'] = 'white'\n",
        "\n",
        "\n",
        "  colors = cm.rainbow(np.linspace(0, 1, len(folders)))\n",
        "\n",
        "  for i in range(len(folders)):\n",
        "    ax.scatter(X[y_train==i],Y[y_train==i],Z[y_train==i],s=100, color=colors[i])\n",
        "\n",
        "  ax.set_xlabel('x axis',fontsize=20)\n",
        "  ax.set_ylabel('y axis',fontsize=20)\n",
        "  ax.set_zlabel('z axis',fontsize=20)\n",
        "\n",
        "  lst = []\n",
        "\n",
        "  for i in range(len(folders)):\n",
        "    lst.append( mlines.Line2D([], [], linestyle='None', markersize=11, label='Class_'+str(i+1),color=colors[i]))\n",
        "\n",
        "  plt.legend(lst)#,bbox_to_anchor=(0.5, 0.5, 0.45, 0.42))\n",
        "\n",
        "  plt.rcParams[\"axes.labelsize\"] = 22\n",
        "\n",
        "  fig.text(0.5, 0, \"Output Layer\", ha='center',fontsize=18)\n",
        "\n",
        "  # plt.savefig('Cluster.pdf',bbox_inches =\"tight\", pad_inches = 1, orientation ='landscape',dpi=1200,transparent=True)\n",
        "\n",
        "  plt.show()"
      ],
      "metadata": {
        "id": "1kM9bRzMkYHB"
      },
      "execution_count": null,
      "outputs": []
    },
    {
      "cell_type": "code",
      "source": [
        "model.layers"
      ],
      "metadata": {
        "id": "R63XtgfLBanb"
      },
      "execution_count": null,
      "outputs": []
    },
    {
      "cell_type": "code",
      "source": [
        "# import tensorflow as tf\n",
        "# import keras.backend as K\n",
        "# out_layer=model.layers[-1].output\n",
        "# output_fn= K.function([model.input],out_layer)\n",
        "# o=output_fn([x_train]) #1st argument of the .fit() function\n",
        "# o.shape"
      ],
      "metadata": {
        "id": "XvOa_U09Mumg"
      },
      "execution_count": null,
      "outputs": []
    },
    {
      "cell_type": "code",
      "source": [
        "import tensorflow as tf\n",
        "import keras.backend as K\n",
        "out_layer=model.layers[-1].output\n",
        "\n",
        "\n",
        "intermediate_layer_model = Model(inputs=model.input,\n",
        "                                 outputs=out_layer)\n",
        "\n",
        "o = intermediate_layer_model.predict(training_set) #1st argument of the .fit() function\n",
        "o.shape"
      ],
      "metadata": {
        "id": "Al7QsvxKEzjS"
      },
      "execution_count": null,
      "outputs": []
    },
    {
      "cell_type": "code",
      "source": [
        "o.shape"
      ],
      "metadata": {
        "id": "hlNVQWs3JuEq"
      },
      "execution_count": null,
      "outputs": []
    },
    {
      "cell_type": "code",
      "source": [
        "# from sklearn.preprocessing import StandardScaler\n",
        "# scaler=StandardScaler()\n",
        "# scaler.fit(o)\n",
        "# o=scaler.transform(o)\n",
        "# print(o.shape)"
      ],
      "metadata": {
        "id": "M7m8VY6LE0ut"
      },
      "execution_count": null,
      "outputs": []
    },
    {
      "cell_type": "code",
      "source": [
        "from sklearn.decomposition import PCA\n",
        "import matplotlib.lines as mlines\n",
        "import matplotlib.pyplot as plt\n",
        "import matplotlib.cm as cm\n",
        "from mpl_toolkits.mplot3d import Axes3D\n",
        "\n",
        "pca=PCA(n_components=3)"
      ],
      "metadata": {
        "id": "Qr-XKfLKE2FD"
      },
      "execution_count": null,
      "outputs": []
    },
    {
      "cell_type": "code",
      "source": [
        "pca.fit(o)"
      ],
      "metadata": {
        "id": "8ixm18TRE3Qs"
      },
      "execution_count": null,
      "outputs": []
    },
    {
      "cell_type": "code",
      "source": [
        "x_pca=pca.transform(o)\n",
        "x_pca.shape"
      ],
      "metadata": {
        "id": "T2MN8AvsE4R-"
      },
      "execution_count": null,
      "outputs": []
    },
    {
      "cell_type": "code",
      "source": [
        "X=x_pca[:,0]\n",
        "Y=x_pca[:,1]\n",
        "Z=x_pca[:,1]"
      ],
      "metadata": {
        "id": "kpXySBNiE5Vt"
      },
      "execution_count": null,
      "outputs": []
    },
    {
      "cell_type": "code",
      "source": [
        "import matplotlib.lines as mlines\n",
        "import matplotlib.pyplot as plt\n",
        "import matplotlib.cm as cm\n",
        "\n",
        "fig, (ax) = plt.subplots(1,1,figsize=(12,12))\n",
        "ax = plt.axes(projection='3d')\n",
        "plt.rcParams['axes.facecolor'] = 'white'\n",
        "\n",
        "\n",
        "colors = cm.rainbow(np.linspace(0, 1, len(folders)))\n",
        "\n",
        "for i in range(len(folders)):\n",
        "  ax.scatter(X[y_train==i],Y[y_train==i],Z[y_train==i],s=100, color=colors[i])\n",
        "\n",
        "# ax.scatter(X[y_train==1],Y[y_train==1],Z[y_train==1],marker='*',color='green',s=100)\n",
        "# ax.scatter(X[y_train==3],Y[y_train==3],Z[y_train==3],marker='P',color='blue',s=100)\n",
        "# ax.scatter(X[y_train==2],Y[y_train==2],Z[y_train==2],marker='^',color='darkorange',s=100)\n",
        "# ax.scatter(X[y_train==0],Y[y_train==0],Z[y_train==0],marker='o',color='red',s=100)\n",
        "\n",
        "ax.set_xlabel('x axis',fontsize=20)\n",
        "ax.set_ylabel('y axis',fontsize=20)\n",
        "ax.set_zlabel('z axis',fontsize=20)\n",
        "\n",
        "lst = []\n",
        "\n",
        "for i in range(len(folders)):\n",
        "  lst.append( mlines.Line2D([], [], linestyle='None', markersize=11, label='Class_'+str(i+1),color=colors[i]))\n",
        "#   ax.scatter(X[y_train==i+1],Y[y_train==i+1],Z[y_train==i+1],s=100)\n",
        "\n",
        "# b = mlines.Line2D([], [], linestyle='None', markersize=11, label='Happy', marker='*',color='green')\n",
        "# c = mlines.Line2D([], [], linestyle='None', markersize=10, label='Sad',   marker='P',color='blue')\n",
        "# d = mlines.Line2D([], [], linestyle='None', markersize=10, label='Hate',  marker='^',color='darkorange')\n",
        "# a = mlines.Line2D([], [], linestyle='None', markersize=10, label='Anger', marker='o',color='red')\n",
        "\n",
        "plt.legend(lst)#,bbox_to_anchor=(0.5, 0.5, 0.45, 0.42))\n",
        "\n",
        "plt.rcParams[\"axes.labelsize\"] = 22\n",
        "\n",
        "fig.text(0.5, 0, \"Output Layer\", ha='center',fontsize=18)\n",
        "\n",
        "# plt.savefig('Cluster.pdf',bbox_inches =\"tight\", pad_inches = 1, orientation ='landscape',dpi=1200,transparent=True)\n",
        "\n",
        "plt.show()"
      ],
      "metadata": {
        "id": "ZlCOEiqiV_iw"
      },
      "execution_count": null,
      "outputs": []
    },
    {
      "cell_type": "markdown",
      "source": [
        "## [ToDo] \n",
        "Cluster plot for fourth last layer."
      ],
      "metadata": {
        "id": "Kqn0LYYyiAlj"
      }
    },
    {
      "cell_type": "code",
      "source": [
        "plot_3d_cluster(-4)"
      ],
      "metadata": {
        "id": "OnWPVppflIkT"
      },
      "execution_count": null,
      "outputs": []
    },
    {
      "cell_type": "markdown",
      "source": [
        "## [ToDo] \n",
        "Cluster plot for third last layer."
      ],
      "metadata": {
        "id": "70t5xf9aiJAt"
      }
    },
    {
      "cell_type": "code",
      "source": [
        "plot_3d_cluster(-3)"
      ],
      "metadata": {
        "id": "6pxFdxmAkeUO"
      },
      "execution_count": null,
      "outputs": []
    },
    {
      "cell_type": "markdown",
      "source": [
        "## [ToDo] \n",
        "Cluster plot for second last layer."
      ],
      "metadata": {
        "id": "oAisvF2eiLYi"
      }
    },
    {
      "cell_type": "code",
      "source": [
        "plot_3d_cluster(-2)"
      ],
      "metadata": {
        "id": "Pee_A1MakdAI"
      },
      "execution_count": null,
      "outputs": []
    },
    {
      "cell_type": "markdown",
      "source": [
        "## [ToDo] \n",
        "Cluster plot for last layer."
      ],
      "metadata": {
        "id": "VJY7iaqOiN8s"
      }
    },
    {
      "cell_type": "code",
      "source": [
        "plot_3d_cluster(-1)"
      ],
      "metadata": {
        "id": "fcOVqrkvkbpQ"
      },
      "execution_count": null,
      "outputs": []
    }
  ]
}