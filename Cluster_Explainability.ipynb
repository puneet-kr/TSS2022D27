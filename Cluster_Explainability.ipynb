{
  "nbformat": 4,
  "nbformat_minor": 0,
  "metadata": {
    "colab": {
      "name": "Cluster_Explainability.ipynb",
      "provenance": [],
      "collapsed_sections": []
    },
    "kernelspec": {
      "name": "python3",
      "display_name": "Python 3"
    },
    "language_info": {
      "name": "python"
    },
    "accelerator": "GPU"
  },
  "cells": [
    {
      "cell_type": "code",
      "source": [
        "#from google.colab import drive\n",
        "#drive.mount('/content/drive')\n",
        "\n",
        "!git clone https://github.com/puneet-kr/TSS2022D27.git"
      ],
      "metadata": {
        "id": "qzvTyfJPBUa5",
        "colab": {
          "base_uri": "https://localhost:8080/"
        },
        "outputId": "01a0a2e6-a038-4635-8c39-bb7ac6a34df3"
      },
      "execution_count": 1,
      "outputs": [
        {
          "output_type": "stream",
          "name": "stdout",
          "text": [
            "fatal: destination path 'TSS2022D27' already exists and is not an empty directory.\n"
          ]
        }
      ]
    },
    {
      "cell_type": "code",
      "source": [
        "import tensorflow as tf\n",
        "import numpy as np\n",
        "import datetime\n",
        "from glob import glob\n",
        "import matplotlib.pyplot as plt\n",
        "from keras.layers import Input, Lambda, Dense, Flatten\n",
        "from keras.models import Model\n",
        "from keras.applications.vgg16 import preprocess_input\n",
        "from keras.preprocessing import image\n",
        "from keras.preprocessing.image import ImageDataGenerator\n",
        "from keras.models import Sequential\n",
        "from keras.models import load_model\n",
        "from keras.preprocessing.image import ImageDataGenerator"
      ],
      "metadata": {
        "id": "Y_x-kEGsFNCz"
      },
      "execution_count": 15,
      "outputs": []
    },
    {
      "cell_type": "code",
      "source": [
        "#---------[Change#1: Optional]-----------\n",
        "#from keras.applications.resnet50 import ResNet50\n",
        "from keras.applications.vgg16 import VGG16\n",
        "\n",
        "# re-size all the images to this\n",
        "IMAGE_SIZE = [224, 224]\n",
        "\n",
        "train_path = 'TSS2022D27/Data/SportsCelebrity/Train'\n",
        "valid_path = 'TSS2022D27/Data/SportsCelebrity/Test'\n",
        "\n",
        "#---------[Change#2: Optional]-----------\n",
        "#m = ResNet50(input_shape=IMAGE_SIZE + [3], weights='imagenet', include_top=False)\n",
        "m = VGG16(input_shape=IMAGE_SIZE + [3], weights='imagenet', include_top=False)\n",
        "\n",
        "# don't train existing weights\n",
        "for layer in m.layers:\n",
        "  layer.trainable = False"
      ],
      "metadata": {
        "id": "rO1yCCNkFSpS"
      },
      "execution_count": 30,
      "outputs": []
    },
    {
      "cell_type": "markdown",
      "source": [
        "## [ToDo] \n",
        "Add/reduce more layers and observe the clusters"
      ],
      "metadata": {
        "id": "ZTcNG5u_3qTL"
      }
    },
    {
      "cell_type": "code",
      "source": [
        "# useful for getting number of classes\n",
        "folders = glob('TSS2022D27/Data/SportsCelebrity/Train/*')\n",
        "\n",
        "# our layers - you can add more if you want\n",
        "x = Flatten()(m.output)\n",
        "\n",
        "# ------------------------------------------------------\n",
        "# [ToDo] Add/reduce more layers and observe the clusters\n",
        "# ------------------------------------------------------\n",
        "# x = Dense(1000, activation='relu')(x)\n",
        "x = Dense(2048, activation='relu')(x)\n",
        "x = Dense(4096, activation='relu')(x)\n",
        "x = Dense(4096, activation='relu')(x)\n",
        "\n",
        "prediction = Dense(len(folders), activation='softmax')(x)\n",
        "\n",
        "# create a model object\n",
        "model = Model(inputs=m.input, outputs=prediction)\n",
        "\n",
        "# view the structure of the model\n",
        "model.summary()\n",
        "\n",
        "# tell the model what cost and optimization method to use\n",
        "model.compile(\n",
        "  loss='categorical_crossentropy',\n",
        "  optimizer='adam',\n",
        "  metrics=['accuracy']\n",
        ")"
      ],
      "metadata": {
        "colab": {
          "base_uri": "https://localhost:8080/"
        },
        "id": "BBhIK94WFW8e",
        "outputId": "dc605dfd-5717-4c5c-9e35-1174c1455594"
      },
      "execution_count": 31,
      "outputs": [
        {
          "output_type": "stream",
          "name": "stdout",
          "text": [
            "Model: \"model_1\"\n",
            "_________________________________________________________________\n",
            " Layer (type)                Output Shape              Param #   \n",
            "=================================================================\n",
            " input_2 (InputLayer)        [(None, 224, 224, 3)]     0         \n",
            "                                                                 \n",
            " block1_conv1 (Conv2D)       (None, 224, 224, 64)      1792      \n",
            "                                                                 \n",
            " block1_conv2 (Conv2D)       (None, 224, 224, 64)      36928     \n",
            "                                                                 \n",
            " block1_pool (MaxPooling2D)  (None, 112, 112, 64)      0         \n",
            "                                                                 \n",
            " block2_conv1 (Conv2D)       (None, 112, 112, 128)     73856     \n",
            "                                                                 \n",
            " block2_conv2 (Conv2D)       (None, 112, 112, 128)     147584    \n",
            "                                                                 \n",
            " block2_pool (MaxPooling2D)  (None, 56, 56, 128)       0         \n",
            "                                                                 \n",
            " block3_conv1 (Conv2D)       (None, 56, 56, 256)       295168    \n",
            "                                                                 \n",
            " block3_conv2 (Conv2D)       (None, 56, 56, 256)       590080    \n",
            "                                                                 \n",
            " block3_conv3 (Conv2D)       (None, 56, 56, 256)       590080    \n",
            "                                                                 \n",
            " block3_pool (MaxPooling2D)  (None, 28, 28, 256)       0         \n",
            "                                                                 \n",
            " block4_conv1 (Conv2D)       (None, 28, 28, 512)       1180160   \n",
            "                                                                 \n",
            " block4_conv2 (Conv2D)       (None, 28, 28, 512)       2359808   \n",
            "                                                                 \n",
            " block4_conv3 (Conv2D)       (None, 28, 28, 512)       2359808   \n",
            "                                                                 \n",
            " block4_pool (MaxPooling2D)  (None, 14, 14, 512)       0         \n",
            "                                                                 \n",
            " block5_conv1 (Conv2D)       (None, 14, 14, 512)       2359808   \n",
            "                                                                 \n",
            " block5_conv2 (Conv2D)       (None, 14, 14, 512)       2359808   \n",
            "                                                                 \n",
            " block5_conv3 (Conv2D)       (None, 14, 14, 512)       2359808   \n",
            "                                                                 \n",
            " block5_pool (MaxPooling2D)  (None, 7, 7, 512)         0         \n",
            "                                                                 \n",
            " flatten_1 (Flatten)         (None, 25088)             0         \n",
            "                                                                 \n",
            " dense_4 (Dense)             (None, 2048)              51382272  \n",
            "                                                                 \n",
            " dense_5 (Dense)             (None, 4096)              8392704   \n",
            "                                                                 \n",
            " dense_6 (Dense)             (None, 4096)              16781312  \n",
            "                                                                 \n",
            " dense_7 (Dense)             (None, 4)                 16388     \n",
            "                                                                 \n",
            "=================================================================\n",
            "Total params: 91,287,364\n",
            "Trainable params: 76,572,676\n",
            "Non-trainable params: 14,714,688\n",
            "_________________________________________________________________\n"
          ]
        }
      ]
    },
    {
      "cell_type": "code",
      "source": [
        "len(folders)"
      ],
      "metadata": {
        "colab": {
          "base_uri": "https://localhost:8080/"
        },
        "id": "PL_Bxx74IX0E",
        "outputId": "52abaf09-de14-4bd8-ad3c-9a93ccdef6d2"
      },
      "execution_count": 32,
      "outputs": [
        {
          "output_type": "execute_result",
          "data": {
            "text/plain": [
              "4"
            ]
          },
          "metadata": {},
          "execution_count": 32
        }
      ]
    },
    {
      "cell_type": "code",
      "source": [
        "train_datagen = ImageDataGenerator(rescale = 1./255,\n",
        "                                   shear_range = 0.2,\n",
        "                                   zoom_range = 0.2,\n",
        "                                   horizontal_flip = True)\n",
        "\n",
        "test_datagen = ImageDataGenerator(rescale = 1./255)\n",
        "\n",
        "training_set = train_datagen.flow_from_directory(train_path,\n",
        "                                                 target_size = (224, 224),\n",
        "                                                 batch_size = 16,\n",
        "                                                 class_mode = 'categorical')\n",
        "\n",
        "test_set = test_datagen.flow_from_directory(valid_path,\n",
        "                                            target_size = (224, 224),\n",
        "                                            batch_size = 16,\n",
        "                                            class_mode = 'categorical')\n"
      ],
      "metadata": {
        "colab": {
          "base_uri": "https://localhost:8080/"
        },
        "id": "DNuWparpI5oW",
        "outputId": "1a221a59-e7aa-4a57-895f-d1301a28dae3"
      },
      "execution_count": 33,
      "outputs": [
        {
          "output_type": "stream",
          "name": "stdout",
          "text": [
            "Found 328 images belonging to 4 classes.\n",
            "Found 112 images belonging to 4 classes.\n"
          ]
        }
      ]
    },
    {
      "cell_type": "code",
      "source": [
        "training_set[0][0].shape"
      ],
      "metadata": {
        "colab": {
          "base_uri": "https://localhost:8080/"
        },
        "id": "tnolUPnDJaLl",
        "outputId": "40ecf034-0d7b-4a1c-b711-4c135c4bc5a0"
      },
      "execution_count": 34,
      "outputs": [
        {
          "output_type": "execute_result",
          "data": {
            "text/plain": [
              "(16, 224, 224, 3)"
            ]
          },
          "metadata": {},
          "execution_count": 34
        }
      ]
    },
    {
      "cell_type": "code",
      "source": [
        "training_set[0][0][0]"
      ],
      "metadata": {
        "colab": {
          "base_uri": "https://localhost:8080/"
        },
        "id": "ox1DOd3pTkHg",
        "outputId": "fcd52d7a-c556-4f3f-ad61-6a50eb36af20"
      },
      "execution_count": 36,
      "outputs": [
        {
          "output_type": "execute_result",
          "data": {
            "text/plain": [
              "array([[[0.27450982, 0.27058825, 0.18823531],\n",
              "        [0.27450982, 0.27058825, 0.18823531],\n",
              "        [0.27450982, 0.27058825, 0.18823531],\n",
              "        ...,\n",
              "        [0.22352943, 0.12941177, 0.1137255 ],\n",
              "        [0.22352943, 0.12941177, 0.1137255 ],\n",
              "        [0.22352943, 0.12941177, 0.1137255 ]],\n",
              "\n",
              "       [[0.27450982, 0.27058825, 0.18823531],\n",
              "        [0.27450982, 0.27058825, 0.18823531],\n",
              "        [0.27450982, 0.27058825, 0.18823531],\n",
              "        ...,\n",
              "        [0.22352943, 0.12941177, 0.1137255 ],\n",
              "        [0.22352943, 0.12941177, 0.1137255 ],\n",
              "        [0.22352943, 0.12941177, 0.1137255 ]],\n",
              "\n",
              "       [[0.27450982, 0.27058825, 0.18823531],\n",
              "        [0.27450982, 0.27058825, 0.18823531],\n",
              "        [0.27450982, 0.27058825, 0.18823531],\n",
              "        ...,\n",
              "        [0.22352943, 0.12941177, 0.1137255 ],\n",
              "        [0.22352943, 0.12941177, 0.1137255 ],\n",
              "        [0.22352943, 0.12941177, 0.1137255 ]],\n",
              "\n",
              "       ...,\n",
              "\n",
              "       [[0.5254902 , 0.5647059 , 0.3254902 ],\n",
              "        [0.5254902 , 0.5647059 , 0.3254902 ],\n",
              "        [0.5254902 , 0.5647059 , 0.3254902 ],\n",
              "        ...,\n",
              "        [0.5372549 , 0.58431375, 0.3254902 ],\n",
              "        [0.5372549 , 0.58431375, 0.3254902 ],\n",
              "        [0.5372549 , 0.58431375, 0.3254902 ]],\n",
              "\n",
              "       [[0.5254902 , 0.5647059 , 0.3254902 ],\n",
              "        [0.5254902 , 0.5647059 , 0.3254902 ],\n",
              "        [0.5254902 , 0.5647059 , 0.3254902 ],\n",
              "        ...,\n",
              "        [0.5372549 , 0.58431375, 0.3254902 ],\n",
              "        [0.5372549 , 0.58431375, 0.3254902 ],\n",
              "        [0.5372549 , 0.58431375, 0.3254902 ]],\n",
              "\n",
              "       [[0.5254902 , 0.5647059 , 0.3254902 ],\n",
              "        [0.5254902 , 0.5647059 , 0.3254902 ],\n",
              "        [0.5254902 , 0.5647059 , 0.3254902 ],\n",
              "        ...,\n",
              "        [0.5372549 , 0.58431375, 0.3254902 ],\n",
              "        [0.5372549 , 0.58431375, 0.3254902 ],\n",
              "        [0.5372549 , 0.58431375, 0.3254902 ]]], dtype=float32)"
            ]
          },
          "metadata": {},
          "execution_count": 36
        }
      ]
    },
    {
      "cell_type": "code",
      "source": [
        "plt.imshow(training_set[0][0][0])"
      ],
      "metadata": {
        "colab": {
          "base_uri": "https://localhost:8080/",
          "height": 286
        },
        "id": "P2i6P5ZZTf1N",
        "outputId": "a1e23d5d-616b-4029-ed0b-22ce24f17574"
      },
      "execution_count": 37,
      "outputs": [
        {
          "output_type": "execute_result",
          "data": {
            "text/plain": [
              "<matplotlib.image.AxesImage at 0x7fa7b0621850>"
            ]
          },
          "metadata": {},
          "execution_count": 37
        },
        {
          "output_type": "display_data",
          "data": {
            "text/plain": [
              "<Figure size 432x288 with 1 Axes>"
            ],
            "image/png": "[encoded data removed]"
          },
          "metadata": {
            "needs_background": "light"
          }
        }
      ]
    },
    {
      "cell_type": "code",
      "source": [
        "STEP_SIZE_TRAIN=training_set.n//training_set.batch_size\n",
        "STEP_SIZE_VALID=test_set.n//test_set.batch_size"
      ],
      "metadata": {
        "id": "H4eEIyWTgTHW"
      },
      "execution_count": 39,
      "outputs": []
    },
    {
      "cell_type": "code",
      "execution_count": 40,
      "metadata": {
        "colab": {
          "base_uri": "https://localhost:8080/"
        },
        "id": "OUIfuZ_OBM9C",
        "outputId": "b3dcc78e-2cb8-4f7f-c3c7-34a997887d25"
      },
      "outputs": [
        {
          "output_type": "stream",
          "name": "stdout",
          "text": [
            "Epoch 1/20\n",
            "20/20 [==============================] - 7s 293ms/step - loss: 5.8661 - accuracy: 0.2436 - val_loss: 1.3868 - val_accuracy: 0.3125\n",
            "Epoch 2/20\n",
            "20/20 [==============================] - 6s 280ms/step - loss: 1.1928 - accuracy: 0.4808 - val_loss: 1.1356 - val_accuracy: 0.5446\n",
            "Epoch 3/20\n",
            "20/20 [==============================] - 6s 275ms/step - loss: 0.7417 - accuracy: 0.6987 - val_loss: 1.2405 - val_accuracy: 0.5179\n",
            "Epoch 4/20\n",
            "20/20 [==============================] - 6s 322ms/step - loss: 0.5599 - accuracy: 0.7724 - val_loss: 0.8256 - val_accuracy: 0.6875\n",
            "Epoch 5/20\n",
            "20/20 [==============================] - 6s 278ms/step - loss: 0.2451 - accuracy: 0.9199 - val_loss: 0.7360 - val_accuracy: 0.7232\n",
            "Epoch 6/20\n",
            "20/20 [==============================] - 6s 284ms/step - loss: 0.3201 - accuracy: 0.8782 - val_loss: 1.0215 - val_accuracy: 0.6339\n",
            "Epoch 7/20\n",
            "20/20 [==============================] - 6s 276ms/step - loss: 0.2379 - accuracy: 0.9103 - val_loss: 1.1464 - val_accuracy: 0.6607\n",
            "Epoch 8/20\n",
            "20/20 [==============================] - 6s 279ms/step - loss: 0.1456 - accuracy: 0.9455 - val_loss: 1.6349 - val_accuracy: 0.6429\n",
            "Epoch 9/20\n",
            "20/20 [==============================] - 6s 280ms/step - loss: 0.1737 - accuracy: 0.9551 - val_loss: 2.1314 - val_accuracy: 0.5804\n",
            "Epoch 10/20\n",
            "20/20 [==============================] - 7s 329ms/step - loss: 0.4002 - accuracy: 0.8686 - val_loss: 1.0260 - val_accuracy: 0.7054\n",
            "Epoch 11/20\n",
            "20/20 [==============================] - 6s 275ms/step - loss: 0.1012 - accuracy: 0.9679 - val_loss: 1.2587 - val_accuracy: 0.6518\n",
            "Epoch 12/20\n",
            "20/20 [==============================] - 6s 284ms/step - loss: 0.0696 - accuracy: 0.9744 - val_loss: 1.6754 - val_accuracy: 0.6518\n",
            "Epoch 13/20\n",
            "20/20 [==============================] - 6s 295ms/step - loss: 0.0377 - accuracy: 0.9904 - val_loss: 1.3136 - val_accuracy: 0.7143\n",
            "Epoch 14/20\n",
            "20/20 [==============================] - 5s 280ms/step - loss: 0.1031 - accuracy: 0.9712 - val_loss: 2.1852 - val_accuracy: 0.6429\n",
            "Epoch 15/20\n",
            "20/20 [==============================] - 6s 276ms/step - loss: 0.3473 - accuracy: 0.8846 - val_loss: 1.0380 - val_accuracy: 0.6607\n",
            "Epoch 16/20\n",
            "20/20 [==============================] - 6s 279ms/step - loss: 0.1741 - accuracy: 0.9615 - val_loss: 2.0485 - val_accuracy: 0.5536\n",
            "Epoch 17/20\n",
            "20/20 [==============================] - 6s 275ms/step - loss: 0.2082 - accuracy: 0.9295 - val_loss: 0.9865 - val_accuracy: 0.6518\n",
            "Epoch 18/20\n",
            "20/20 [==============================] - 6s 278ms/step - loss: 0.1466 - accuracy: 0.9647 - val_loss: 1.2659 - val_accuracy: 0.6339\n",
            "Epoch 19/20\n",
            "20/20 [==============================] - 5s 273ms/step - loss: 0.0413 - accuracy: 0.9744 - val_loss: 1.9701 - val_accuracy: 0.6518\n",
            "Epoch 20/20\n",
            "20/20 [==============================] - 6s 274ms/step - loss: 0.0370 - accuracy: 0.9808 - val_loss: 1.3658 - val_accuracy: 0.6964\n"
          ]
        }
      ],
      "source": [
        "# fit the model\n",
        "r = model.fit(\n",
        "  training_set,\n",
        "  validation_data=test_set,\n",
        "  epochs=20,\n",
        "  steps_per_epoch=STEP_SIZE_TRAIN,\n",
        "  validation_steps=STEP_SIZE_VALID\n",
        ")"
      ]
    },
    {
      "cell_type": "code",
      "source": [
        "y_train = training_set.labels"
      ],
      "metadata": {
        "id": "Fwf3lG6AkCQp"
      },
      "execution_count": 41,
      "outputs": []
    },
    {
      "cell_type": "code",
      "source": [
        "def plot_3d_cluster(layer_num = -1):\n",
        "  import tensorflow as tf\n",
        "  import keras.backend as K\n",
        "  out_layer=model.layers[layer_num].output\n",
        "\n",
        "\n",
        "  intermediate_layer_model = Model(inputs=model.input,\n",
        "                                  outputs=out_layer)\n",
        "\n",
        "  o = intermediate_layer_model.predict(training_set) #1st argument of the .fit() function\n",
        "\n",
        "  pca=PCA(n_components=3)\n",
        "  pca.fit(o)\n",
        "  x_pca=pca.transform(o)\n",
        "  X=x_pca[:,0]\n",
        "  Y=x_pca[:,1]\n",
        "  Z=x_pca[:,1]\n",
        "\n",
        "  fig, (ax) = plt.subplots(1,1,figsize=(12,12))\n",
        "  ax = plt.axes(projection='3d')\n",
        "  plt.rcParams['axes.facecolor'] = 'white'\n",
        "\n",
        "\n",
        "  colors = cm.rainbow(np.linspace(0, 1, len(folders)))\n",
        "\n",
        "  for i in range(len(folders)):\n",
        "    ax.scatter(X[y_train==i],Y[y_train==i],Z[y_train==i],s=100, color=colors[i])\n",
        "\n",
        "  ax.set_xlabel('x axis',fontsize=20)\n",
        "  ax.set_ylabel('y axis',fontsize=20)\n",
        "  ax.set_zlabel('z axis',fontsize=20)\n",
        "\n",
        "  lst = []\n",
        "\n",
        "  for i in range(len(folders)):\n",
        "    lst.append( mlines.Line2D([], [], linestyle='None', markersize=11, label='Class_'+str(i+1),color=colors[i]))\n",
        "\n",
        "  plt.legend(lst)#,bbox_to_anchor=(0.5, 0.5, 0.45, 0.42))\n",
        "\n",
        "  plt.rcParams[\"axes.labelsize\"] = 22\n",
        "\n",
        "  fig.text(0.5, 0, \"Output Layer\", ha='center',fontsize=18)\n",
        "\n",
        "  # plt.savefig('Cluster.pdf',bbox_inches =\"tight\", pad_inches = 1, orientation ='landscape',dpi=1200,transparent=True)\n",
        "\n",
        "  plt.show()"
      ],
      "metadata": {
        "id": "1kM9bRzMkYHB"
      },
      "execution_count": 42,
      "outputs": []
    },
    {
      "cell_type": "code",
      "source": [
        "model.layers"
      ],
      "metadata": {
        "id": "R63XtgfLBanb",
        "colab": {
          "base_uri": "https://localhost:8080/"
        },
        "outputId": "d3d714f0-2709-4eda-cb14-61ee490fc4fc"
      },
      "execution_count": 43,
      "outputs": [
        {
          "output_type": "execute_result",
          "data": {
            "text/plain": [
              "[<keras.engine.input_layer.InputLayer at 0x7fa7b06b0ed0>,\n",
              " <keras.layers.convolutional.Conv2D at 0x7fa7fc0a0650>,\n",
              " <keras.layers.convolutional.Conv2D at 0x7fa7b06b0510>,\n",
              " <keras.layers.pooling.MaxPooling2D at 0x7fa7b0f1a850>,\n",
              " <keras.layers.convolutional.Conv2D at 0x7fa8121e2e50>,\n",
              " <keras.layers.convolutional.Conv2D at 0x7fa7b0f1a050>,\n",
              " <keras.layers.pooling.MaxPooling2D at 0x7fa7b06aa810>,\n",
              " <keras.layers.convolutional.Conv2D at 0x7fa7b06b3ed0>,\n",
              " <keras.layers.convolutional.Conv2D at 0x7fa7fc37fb50>,\n",
              " <keras.layers.convolutional.Conv2D at 0x7fa7b06aa5d0>,\n",
              " <keras.layers.pooling.MaxPooling2D at 0x7fa7fc38bf10>,\n",
              " <keras.layers.convolutional.Conv2D at 0x7fa7b06aa290>,\n",
              " <keras.layers.convolutional.Conv2D at 0x7fa7b06a5b10>,\n",
              " <keras.layers.convolutional.Conv2D at 0x7fa7fc36ff90>,\n",
              " <keras.layers.pooling.MaxPooling2D at 0x7fa7b065c610>,\n",
              " <keras.layers.convolutional.Conv2D at 0x7fa812046890>,\n",
              " <keras.layers.convolutional.Conv2D at 0x7fa7b063ac90>,\n",
              " <keras.layers.convolutional.Conv2D at 0x7fa7b0669650>,\n",
              " <keras.layers.pooling.MaxPooling2D at 0x7fa7b066d650>,\n",
              " <keras.layers.core.flatten.Flatten at 0x7fa7b0607350>,\n",
              " <keras.layers.core.dense.Dense at 0x7fa7b0607390>,\n",
              " <keras.layers.core.dense.Dense at 0x7fa880093250>,\n",
              " <keras.layers.core.dense.Dense at 0x7fa7b06a55d0>,\n",
              " <keras.layers.core.dense.Dense at 0x7fa7b0615ad0>]"
            ]
          },
          "metadata": {},
          "execution_count": 43
        }
      ]
    },
    {
      "cell_type": "code",
      "source": [
        "# import tensorflow as tf\n",
        "# import keras.backend as K\n",
        "# out_layer=model.layers[-1].output\n",
        "# output_fn= K.function([model.input],out_layer)\n",
        "# o=output_fn([x_train]) #1st argument of the .fit() function\n",
        "# o.shape"
      ],
      "metadata": {
        "id": "XvOa_U09Mumg"
      },
      "execution_count": 44,
      "outputs": []
    },
    {
      "cell_type": "code",
      "source": [
        "import tensorflow as tf\n",
        "import keras.backend as K\n",
        "out_layer=model.layers[-1].output\n",
        "\n",
        "\n",
        "intermediate_layer_model = Model(inputs=model.input,\n",
        "                                 outputs=out_layer)\n",
        "\n",
        "o = intermediate_layer_model.predict(training_set) #1st argument of the .fit() function\n",
        "o.shape"
      ],
      "metadata": {
        "id": "Al7QsvxKEzjS",
        "colab": {
          "base_uri": "https://localhost:8080/"
        },
        "outputId": "48c24d40-ce5f-46c2-c5d0-7cec5cb3b2c1"
      },
      "execution_count": 45,
      "outputs": [
        {
          "output_type": "execute_result",
          "data": {
            "text/plain": [
              "(328, 4)"
            ]
          },
          "metadata": {},
          "execution_count": 45
        }
      ]
    },
    {
      "cell_type": "code",
      "source": [
        "o.shape"
      ],
      "metadata": {
        "id": "hlNVQWs3JuEq",
        "colab": {
          "base_uri": "https://localhost:8080/"
        },
        "outputId": "0a7be0d1-ecdc-42b5-9412-e22c03196542"
      },
      "execution_count": 46,
      "outputs": [
        {
          "output_type": "execute_result",
          "data": {
            "text/plain": [
              "(328, 4)"
            ]
          },
          "metadata": {},
          "execution_count": 46
        }
      ]
    },
    {
      "cell_type": "code",
      "source": [
        "# from sklearn.preprocessing import StandardScaler\n",
        "# scaler=StandardScaler()\n",
        "# scaler.fit(o)\n",
        "# o=scaler.transform(o)\n",
        "# print(o.shape)"
      ],
      "metadata": {
        "id": "M7m8VY6LE0ut"
      },
      "execution_count": 47,
      "outputs": []
    },
    {
      "cell_type": "code",
      "source": [
        "from sklearn.decomposition import PCA\n",
        "import matplotlib.lines as mlines\n",
        "import matplotlib.pyplot as plt\n",
        "import matplotlib.cm as cm\n",
        "from mpl_toolkits.mplot3d import Axes3D\n",
        "\n",
        "pca=PCA(n_components=3)"
      ],
      "metadata": {
        "id": "Qr-XKfLKE2FD"
      },
      "execution_count": 48,
      "outputs": []
    },
    {
      "cell_type": "code",
      "source": [
        "pca.fit(o)"
      ],
      "metadata": {
        "id": "8ixm18TRE3Qs",
        "colab": {
          "base_uri": "https://localhost:8080/"
        },
        "outputId": "92418ed8-cb29-41ae-cb6f-f80d3cedad0e"
      },
      "execution_count": 49,
      "outputs": [
        {
          "output_type": "execute_result",
          "data": {
            "text/plain": [
              "PCA(n_components=3)"
            ]
          },
          "metadata": {},
          "execution_count": 49
        }
      ]
    },
    {
      "cell_type": "code",
      "source": [
        "x_pca=pca.transform(o)\n",
        "x_pca.shape"
      ],
      "metadata": {
        "id": "T2MN8AvsE4R-"
      },
      "execution_count": null,
      "outputs": []
    },
    {
      "cell_type": "code",
      "source": [
        "X=x_pca[:,0]\n",
        "Y=x_pca[:,1]\n",
        "Z=x_pca[:,1]"
      ],
      "metadata": {
        "id": "kpXySBNiE5Vt"
      },
      "execution_count": 51,
      "outputs": []
    },
    {
      "cell_type": "code",
      "source": [
        "import matplotlib.lines as mlines\n",
        "import matplotlib.pyplot as plt\n",
        "import matplotlib.cm as cm\n",
        "\n",
        "fig, (ax) = plt.subplots(1,1,figsize=(12,12))\n",
        "ax = plt.axes(projection='3d')\n",
        "plt.rcParams['axes.facecolor'] = 'white'\n",
        "\n",
        "\n",
        "colors = cm.rainbow(np.linspace(0, 1, len(folders)))\n",
        "\n",
        "for i in range(len(folders)):\n",
        "  ax.scatter(X[y_train==i],Y[y_train==i],Z[y_train==i],s=100, color=colors[i])\n",
        "\n",
        "# ax.scatter(X[y_train==1],Y[y_train==1],Z[y_train==1],marker='*',color='green',s=100)\n",
        "# ax.scatter(X[y_train==3],Y[y_train==3],Z[y_train==3],marker='P',color='blue',s=100)\n",
        "# ax.scatter(X[y_train==2],Y[y_train==2],Z[y_train==2],marker='^',color='darkorange',s=100)\n",
        "# ax.scatter(X[y_train==0],Y[y_train==0],Z[y_train==0],marker='o',color='red',s=100)\n",
        "\n",
        "ax.set_xlabel('x axis',fontsize=20)\n",
        "ax.set_ylabel('y axis',fontsize=20)\n",
        "ax.set_zlabel('z axis',fontsize=20)\n",
        "\n",
        "lst = []\n",
        "\n",
        "for i in range(len(folders)):\n",
        "  lst.append( mlines.Line2D([], [], linestyle='None', markersize=11, label='Class_'+str(i+1),color=colors[i]))\n",
        "#   ax.scatter(X[y_train==i+1],Y[y_train==i+1],Z[y_train==i+1],s=100)\n",
        "\n",
        "# b = mlines.Line2D([], [], linestyle='None', markersize=11, label='Happy', marker='*',color='green')\n",
        "# c = mlines.Line2D([], [], linestyle='None', markersize=10, label='Sad',   marker='P',color='blue')\n",
        "# d = mlines.Line2D([], [], linestyle='None', markersize=10, label='Hate',  marker='^',color='darkorange')\n",
        "# a = mlines.Line2D([], [], linestyle='None', markersize=10, label='Anger', marker='o',color='red')\n",
        "\n",
        "plt.legend(lst)#,bbox_to_anchor=(0.5, 0.5, 0.45, 0.42))\n",
        "\n",
        "plt.rcParams[\"axes.labelsize\"] = 22\n",
        "\n",
        "fig.text(0.5, 0, \"Output Layer\", ha='center',fontsize=18)\n",
        "\n",
        "# plt.savefig('Cluster.pdf',bbox_inches =\"tight\", pad_inches = 1, orientation ='landscape',dpi=1200,transparent=True)\n",
        "\n",
        "#plt.show()"
      ],
      "metadata": {
        "id": "ZlCOEiqiV_iw"
      },
      "execution_count": null,
      "outputs": []
    },
    {
      "cell_type": "markdown",
      "source": [
        "## [ToDo] \n",
        "Cluster plot for fourth last layer."
      ],
      "metadata": {
        "id": "Kqn0LYYyiAlj"
      }
    },
    {
      "cell_type": "code",
      "source": [
        "##"
      ],
      "metadata": {
        "id": "OnWPVppflIkT"
      },
      "execution_count": null,
      "outputs": []
    },
    {
      "cell_type": "markdown",
      "source": [
        "## [ToDo] \n",
        "Cluster plot for third last layer."
      ],
      "metadata": {
        "id": "70t5xf9aiJAt"
      }
    },
    {
      "cell_type": "code",
      "source": [
        "## "
      ],
      "metadata": {
        "id": "6pxFdxmAkeUO"
      },
      "execution_count": null,
      "outputs": []
    },
    {
      "cell_type": "markdown",
      "source": [
        "## [ToDo] \n",
        "Cluster plot for second last layer."
      ],
      "metadata": {
        "id": "oAisvF2eiLYi"
      }
    },
    {
      "cell_type": "code",
      "source": [
        "##"
      ],
      "metadata": {
        "id": "Pee_A1MakdAI"
      },
      "execution_count": null,
      "outputs": []
    },
    {
      "cell_type": "markdown",
      "source": [
        "## [ToDo] \n",
        "Cluster plot for last layer."
      ],
      "metadata": {
        "id": "VJY7iaqOiN8s"
      }
    },
    {
      "cell_type": "code",
      "source": [
        "##"
      ],
      "metadata": {
        "id": "fcOVqrkvkbpQ"
      },
      "execution_count": null,
      "outputs": []
    },
    {
      "cell_type": "markdown",
      "source": [
        "**Full implementation of the Explainability Technique**:\n",
        "\n",
        "Paper: https://www.isca-speech.org/archive/pdfs/interspeech_2021/kumar21d_interspeech.pdf \n",
        "\n",
        "Code: https://github.com/MIntelligence-Group/SpeechText_EmoRec\n"
      ],
      "metadata": {
        "id": "A6ArjSRX4-t8"
      }
    }
  ]
}